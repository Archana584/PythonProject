{
 "cells": [
  {
   "cell_type": "code",
   "execution_count": 1,
   "metadata": {},
   "outputs": [],
   "source": [
    "# Dependencies\n",
    "import pandas as pd\n",
    "import numpy as np\n",
    "import requests\n",
    "import json\n",
    "from pprint import pprint\n",
    "import time\n",
    "import os\n",
    "import csv\n",
    "\n",
    "# Google API Key\n",
    "from api_keys import api_key_google"
   ]
  },
  {
   "cell_type": "code",
   "execution_count": 3,
   "metadata": {},
   "outputs": [],
   "source": [
    "# List for holding lat_lon and cities\n",
    "lat_lon = []\n",
    "\n",
    "# Create a set of random lat and lng combinations\n",
    "lats = np.random.uniform(low=37.280, high=37.710, size=200)\n",
    "lons = np.random.uniform(low=-77.170, high=-77.800, size=200)\n",
    "lat_lon = [f\"{coord[0]}, {coord[1]}\" for coord in zip(lats, lons)]"
   ]
  },
  {
   "cell_type": "code",
   "execution_count": 3,
   "metadata": {},
   "outputs": [
    {
     "ename": "NameError",
     "evalue": "name 'lat_lon' is not defined",
     "output_type": "error",
     "traceback": [
      "\u001b[1;31m---------------------------------------------------------------------------\u001b[0m",
      "\u001b[1;31mNameError\u001b[0m                                 Traceback (most recent call last)",
      "\u001b[1;32m<ipython-input-3-71ce2f219977>\u001b[0m in \u001b[0;36m<module>\u001b[1;34m\u001b[0m\n\u001b[1;32m----> 1\u001b[1;33m \u001b[0mprint\u001b[0m\u001b[1;33m(\u001b[0m\u001b[0mlat_lon\u001b[0m\u001b[1;33m[\u001b[0m\u001b[1;36m0\u001b[0m\u001b[1;33m]\u001b[0m\u001b[1;33m)\u001b[0m\u001b[1;33m\u001b[0m\u001b[1;33m\u001b[0m\u001b[0m\n\u001b[0m",
      "\u001b[1;31mNameError\u001b[0m: name 'lat_lon' is not defined"
     ]
    }
   ],
   "source": [
    "print(lat_lon[0])"
   ]
  },
  {
   "cell_type": "code",
   "execution_count": 5,
   "metadata": {},
   "outputs": [],
   "source": [
    "# geocoordinates\n",
    "target_coordinates = \"37.5407246, -77.4360481\"\n",
    "target_search = \"\"\n",
    "target_radius = 50000\n",
    "target_type = \"atm\"\n",
    "# set up a parameters dictionary\n",
    "params = {\n",
    "   \"location\": target_coordinates,\n",
    "   \"keyword\": target_search,\n",
    "   \"radius\": target_radius,\n",
    "   \"type\": target_type,\n",
    "   \"key\": api_key_google\n",
    "}\n",
    "# base url\n",
    "base_url = \"https://maps.googleapis.com/maps/api/place/nearbysearch/json\"\n",
    "# run a request using our params dictionary\n",
    "response = requests.get(base_url, params=params).json()"
   ]
  },
  {
   "cell_type": "code",
   "execution_count": 6,
   "metadata": {},
   "outputs": [],
   "source": [
    "# view output, identify keys\n",
    "#print(json.dumps(response, indent=4, sort_keys=True))"
   ]
  },
  {
   "cell_type": "code",
   "execution_count": 7,
   "metadata": {},
   "outputs": [],
   "source": [
    "# Determine how many results returned per page\n",
    "#print(len(response['results']))"
   ]
  },
  {
   "cell_type": "code",
   "execution_count": null,
   "metadata": {},
   "outputs": [],
   "source": [
    "# searching through keys to find the individual outputs sought: business, address and lat/lon\n",
    "#print(response['results'][0]['name'])\n",
    "#print(response['results'][0]['vicinity'])\n",
    "#print(response['results'][0]['geometry']['location']['lat'])\n",
    "#print(response['results'][0]['geometry']['location']['lng'])"
   ]
  },
  {
   "cell_type": "code",
   "execution_count": null,
   "metadata": {},
   "outputs": [
    {
     "name": "stdout",
     "output_type": "stream",
     "text": [
      "Length of names = 20\n",
      "Length of names = 40\n",
      "Length of names = 60\n",
      "Length of names = 80\n",
      "Length of names = 100\n",
      "Length of names = 120\n",
      "Length of names = 140\n",
      "Length of names = 160\n",
      "Length of names = 180\n",
      "Length of names = 200\n",
      "Length of names = 220\n",
      "Length of names = 240\n",
      "Length of names = 260\n",
      "Length of names = 280\n",
      "Length of names = 300\n",
      "Length of names = 320\n",
      "Length of names = 340\n",
      "Length of names = 360\n",
      "Length of names = 380\n",
      "Length of names = 400\n",
      "Length of names = 420\n",
      "Length of names = 440\n",
      "Length of names = 460\n",
      "Length of names = 480\n",
      "Length of names = 500\n",
      "Length of names = 520\n",
      "Length of names = 540\n"
     ]
    }
   ],
   "source": [
    "# build a loop that will go through each of the results on this first page to extract and store information\n",
    "# modify this loop to iterate repeatedly over and over until it no longer collects data\n",
    "# these additional modifications are marked by ##\n",
    "name = []\n",
    "lat = []\n",
    "lon = []\n",
    "ziplist = []\n",
    "\n",
    "#initialize done to false since we aren't done getting data yet (because we haven't started)\n",
    "\n",
    "for x in lat_lon:\n",
    "    params['location'] = x\n",
    "    time.sleep(2)\n",
    "\n",
    "    done = False\n",
    "\n",
    "    while not done:\n",
    "        # make first request\n",
    "        response = requests.get(base_url, params=params).json()\n",
    "       \n",
    "        for i in range(len(response['results'])):\n",
    "            name.append(response['results'][i]['name'])\n",
    "            lat.append(response['results'][i]['geometry']['location']['lat'])\n",
    "            lon.append(response['results'][i]['geometry']['location']['lng'])\n",
    "            \n",
    "            params2 = {\n",
    "           \"address\": response['results'][i]['vicinity'],\n",
    "           \"key\": api_key_google\n",
    "            }\n",
    "            url2 = 'https://maps.googleapis.com/maps/api/geocode/json'\n",
    "            response2 = requests.get(url2, params=params2).json()\n",
    "            zip = response2['results'][0]['address_components'][-1]['long_name']\n",
    "            if len(zip) < 5:\n",
    "                zip = response2['results'][0]['address_components'][-2]['long_name']\n",
    "            ziplist.append(zip) # adds the zipcodes retrieved to a list\n",
    "            # print(f\"Zips from iter {i}: {zip}\")\n",
    "             \n",
    "        try:\n",
    "            params['pagetoken'] = response['next_page_token']\n",
    "        except:\n",
    "            done = True\n",
    "        #pprint(response)\n",
    "        time.sleep(2)\n",
    "        print(f\"Length of names = {len(name)}\")"
   ]
  },
  {
   "cell_type": "code",
   "execution_count": null,
   "metadata": {},
   "outputs": [],
   "source": [
    "# Quick check to see how many values have been returned here (there are 20 per page)\n",
    "len(name)"
   ]
  },
  {
   "cell_type": "code",
   "execution_count": null,
   "metadata": {},
   "outputs": [],
   "source": [
    "len(ziplist)"
   ]
  },
  {
   "cell_type": "code",
   "execution_count": null,
   "metadata": {},
   "outputs": [],
   "source": [
    "# Present this output in a dataframe\n",
    "atm_loc=pd.DataFrame({'name':name, 'lat':lat, 'lon':lon, 'zipcode':ziplist})\n",
    "atm_loc.head()"
   ]
  },
  {
   "cell_type": "code",
   "execution_count": null,
   "metadata": {},
   "outputs": [],
   "source": [
    "#Count of Atm by Zipcode\n",
    "atm_count_zipcode = atm_loc[\"zipcode\"].count()\n",
    "\n",
    "\n",
    "\n",
    "# Creating an output file containing the data extracted from the input file\n",
    "# Specify the file to write to\n",
    "#output_path = os.path.join(\"..\", \"Desktop\", \"atm_200.csv\")\n",
    "atm_loc.to_csv (\"atm_output.csv\")"
   ]
  },
  {
   "cell_type": "code",
   "execution_count": null,
   "metadata": {},
   "outputs": [],
   "source": [
    "# Program Ends Here for now"
   ]
  },
  {
   "cell_type": "code",
   "execution_count": null,
   "metadata": {},
   "outputs": [],
   "source": []
  }
 ],
 "metadata": {
  "kernelspec": {
   "display_name": "Python 3",
   "language": "python",
   "name": "python3"
  },
  "language_info": {
   "codemirror_mode": {
    "name": "ipython",
    "version": 3
   },
   "file_extension": ".py",
   "mimetype": "text/x-python",
   "name": "python",
   "nbconvert_exporter": "python",
   "pygments_lexer": "ipython3",
   "version": "3.7.3"
  }
 },
 "nbformat": 4,
 "nbformat_minor": 2
}
